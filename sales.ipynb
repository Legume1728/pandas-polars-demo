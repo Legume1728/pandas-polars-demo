{
 "cells": [
  {
   "cell_type": "code",
   "execution_count": 5,
   "metadata": {},
   "outputs": [
    {
     "name": "stdout",
     "output_type": "stream",
     "text": [
      "shape: (8, 3)\n",
      "┌──────────┬───────┬──────────────┐\n",
      "│ category ┆ item  ┆ sales_amount │\n",
      "│ ---      ┆ ---   ┆ ---          │\n",
      "│ str      ┆ str   ┆ i64          │\n",
      "╞══════════╪═══════╪══════════════╡\n",
      "│ A        ┆ Item1 ┆ 100          │\n",
      "│ A        ┆ Item2 ┆ 200          │\n",
      "│ A        ┆ Item3 ┆ 150          │\n",
      "│ A        ┆ Item4 ┆ 120          │\n",
      "│ B        ┆ Item5 ┆ 300          │\n",
      "│ B        ┆ Item6 ┆ 250          │\n",
      "│ B        ┆ Item7 ┆ 200          │\n",
      "│ B        ┆ Item8 ┆ 100          │\n",
      "└──────────┴───────┴──────────────┘\n"
     ]
    }
   ],
   "source": [
    "import polars as pl\n",
    "\n",
    "# Create a DataFrame\n",
    "df = pl.DataFrame({\n",
    "    \"category\": [\"A\", \"A\", \"A\", \"A\", \"B\", \"B\", \"B\", \"B\"],\n",
    "    \"item\": [\"Item1\", \"Item2\", \"Item3\", \"Item4\", \"Item5\", \"Item6\", \"Item7\", \"Item8\"],\n",
    "    \"sales_amount\": [100, 200, 150, 120, 300, 250, 200, 100]\n",
    "})\n",
    "\n",
    "print(df)"
   ]
  },
  {
   "cell_type": "code",
   "execution_count": 9,
   "metadata": {},
   "outputs": [
    {
     "data": {
      "text/html": [
       "<div><style>\n",
       ".dataframe > thead > tr,\n",
       ".dataframe > tbody > tr {\n",
       "  text-align: right;\n",
       "  white-space: pre-wrap;\n",
       "}\n",
       "</style>\n",
       "<small>shape: (6, 4)</small><table border=\"1\" class=\"dataframe\"><thead><tr><th>category</th><th>item</th><th>sales_amount</th><th>rank</th></tr><tr><td>str</td><td>str</td><td>i64</td><td>u32</td></tr></thead><tbody><tr><td>&quot;A&quot;</td><td>&quot;Item2&quot;</td><td>200</td><td>1</td></tr><tr><td>&quot;A&quot;</td><td>&quot;Item3&quot;</td><td>150</td><td>2</td></tr><tr><td>&quot;A&quot;</td><td>&quot;Item4&quot;</td><td>120</td><td>3</td></tr><tr><td>&quot;B&quot;</td><td>&quot;Item5&quot;</td><td>300</td><td>1</td></tr><tr><td>&quot;B&quot;</td><td>&quot;Item6&quot;</td><td>250</td><td>2</td></tr><tr><td>&quot;B&quot;</td><td>&quot;Item7&quot;</td><td>200</td><td>3</td></tr></tbody></table></div>"
      ],
      "text/plain": [
       "shape: (6, 4)\n",
       "┌──────────┬───────┬──────────────┬──────┐\n",
       "│ category ┆ item  ┆ sales_amount ┆ rank │\n",
       "│ ---      ┆ ---   ┆ ---          ┆ ---  │\n",
       "│ str      ┆ str   ┆ i64          ┆ u32  │\n",
       "╞══════════╪═══════╪══════════════╪══════╡\n",
       "│ A        ┆ Item2 ┆ 200          ┆ 1    │\n",
       "│ A        ┆ Item3 ┆ 150          ┆ 2    │\n",
       "│ A        ┆ Item4 ┆ 120          ┆ 3    │\n",
       "│ B        ┆ Item5 ┆ 300          ┆ 1    │\n",
       "│ B        ┆ Item6 ┆ 250          ┆ 2    │\n",
       "│ B        ┆ Item7 ┆ 200          ┆ 3    │\n",
       "└──────────┴───────┴──────────────┴──────┘"
      ]
     },
     "execution_count": 9,
     "metadata": {},
     "output_type": "execute_result"
    }
   ],
   "source": [
    "# we want the top 3 items by sales_amount per category\n",
    "# the corresponding SQL query would be:\n",
    "# \n",
    "# WITH RankedSales AS (\n",
    "#     SELECT \n",
    "#         category,\n",
    "#         item,\n",
    "#         sales_amount,\n",
    "#         ROW_NUMBER() OVER (PARTITION BY category ORDER BY sales_amount DESC) AS rn\n",
    "#     FROM \n",
    "#         sales\n",
    "# )\n",
    "# SELECT \n",
    "#     category,\n",
    "#     item,\n",
    "#     sales_amount\n",
    "# FROM \n",
    "#     RankedSales\n",
    "# WHERE \n",
    "#     rn <= 3\n",
    "# ORDER BY \n",
    "#     category, \n",
    "#     sales_amount DESC;\n",
    "\n",
    "df.with_columns(\n",
    "        pl.col('sales_amount')\n",
    "            .rank('dense', descending=True)\n",
    "            .over('category')\n",
    "            .alias('rank')\n",
    "    )\\\n",
    "    .filter(pl.col('rank') <= 3)\\\n",
    "    .sort(['category', 'rank'])\n"
   ]
  },
  {
   "cell_type": "code",
   "execution_count": 12,
   "metadata": {},
   "outputs": [
    {
     "name": "stdout",
     "output_type": "stream",
     "text": [
      "  category   item  sales_amount  rank\n",
      "1        A  Item2           200   1.0\n",
      "2        A  Item3           150   2.0\n",
      "3        A  Item4           120   3.0\n",
      "4        B  Item5           300   1.0\n",
      "5        B  Item6           250   2.0\n",
      "6        B  Item7           200   3.0\n"
     ]
    }
   ],
   "source": [
    "pd_df = df.to_pandas()\n",
    "\n",
    "\n",
    "pd_df['rank'] = pd_df.groupby('category')['sales_amount'].rank(method='dense', ascending=False)\n",
    "# note that we needed to do an imperative modification of the DataFrame, which is clunky\n",
    "\n",
    "# Also the syntax below is unintuitive and somewhat confusing / verbose\n",
    "top_3_per_category = pd_df[pd_df['rank'] <= 3]\n",
    "\n",
    "print(top_3_per_category)"
   ]
  },
  {
   "cell_type": "code",
   "execution_count": 11,
   "metadata": {},
   "outputs": [
    {
     "name": "stdout",
     "output_type": "stream",
     "text": [
      "shape: (6, 3)\n",
      "┌──────────┬───────┬──────────────┐\n",
      "│ category ┆ item  ┆ sales_amount │\n",
      "│ ---      ┆ ---   ┆ ---          │\n",
      "│ str      ┆ str   ┆ i64          │\n",
      "╞══════════╪═══════╪══════════════╡\n",
      "│ A        ┆ Item2 ┆ 200          │\n",
      "│ A        ┆ Item3 ┆ 150          │\n",
      "│ A        ┆ Item4 ┆ 120          │\n",
      "│ B        ┆ Item5 ┆ 300          │\n",
      "│ B        ┆ Item6 ┆ 250          │\n",
      "│ B        ┆ Item7 ┆ 200          │\n",
      "└──────────┴───────┴──────────────┘\n"
     ]
    }
   ],
   "source": [
    "top_3_per_category = (\n",
    "    df.group_by(\"category\", maintain_order=True)\n",
    "      .agg([\n",
    "          pl.col(\"item\").sort_by(\"sales_amount\", descending=True).head(3).alias(\"item\"),\n",
    "          pl.col(\"sales_amount\").sort_by(\"sales_amount\", descending=True).head(3).alias(\"sales_amount\")\n",
    "      ])\n",
    "      .explode([\"item\", \"sales_amount\"]) # exploding on multiple columns, will correspond the values of the same index\n",
    ")\n",
    "\n",
    "print(top_3_per_category)"
   ]
  },
  {
   "cell_type": "code",
   "execution_count": null,
   "metadata": {},
   "outputs": [],
   "source": []
  }
 ],
 "metadata": {
  "kernelspec": {
   "display_name": "venv",
   "language": "python",
   "name": "python3"
  },
  "language_info": {
   "codemirror_mode": {
    "name": "ipython",
    "version": 3
   },
   "file_extension": ".py",
   "mimetype": "text/x-python",
   "name": "python",
   "nbconvert_exporter": "python",
   "pygments_lexer": "ipython3",
   "version": "3.10.12"
  }
 },
 "nbformat": 4,
 "nbformat_minor": 2
}
