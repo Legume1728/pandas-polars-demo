{
 "cells": [
  {
   "cell_type": "code",
   "execution_count": 1,
   "metadata": {},
   "outputs": [],
   "source": [
    "import pandas as pd\n",
    "import polars as pl\n",
    "import numpy as np\n",
    "import time"
   ]
  },
  {
   "cell_type": "code",
   "execution_count": 2,
   "metadata": {},
   "outputs": [],
   "source": [
    "# Create a CSV file with 1_000_000 rows and 10 columns\n",
    "def gen_csv():\n",
    "    num_rows = 50_000_000\n",
    "    df = pl.DataFrame({\n",
    "        'user': np.random.choice(['user1', 'user2', 'user3'], num_rows),\n",
    "        'num_1': np.random.randint(0, 100, num_rows),\n",
    "        'cat_1': np.random.choice(['a', 'b', 'c', 'd'], num_rows),\n",
    "    })\n",
    "    df.write_csv(\"data.csv\")\n",
    "# gen_csv()"
   ]
  },
  {
   "cell_type": "code",
   "execution_count": 3,
   "metadata": {},
   "outputs": [
    {
     "name": "stdout",
     "output_type": "stream",
     "text": [
      "pd read time: 10.636310577392578\n",
      "pl read time: 0.46529173851013184\n",
      "pl is faster than pd by 95.62544046523888 percent\n"
     ]
    }
   ],
   "source": [
    "t0 = time.time()\n",
    "pd_df = pd.read_csv('./data.csv')\n",
    "print('pd read time:', pd_elapsed := time.time() - t0)\n",
    "\n",
    "t0 = time.time()\n",
    "pl_df = pl.read_csv('./data.csv')\n",
    "print('pl read time:', pl_elapsed := time.time() - t0)\n",
    "print(f'pl is faster than pd by {(pd_elapsed - pl_elapsed) / pd_elapsed * 100} percent')"
   ]
  },
  {
   "cell_type": "code",
   "execution_count": 4,
   "metadata": {},
   "outputs": [
    {
     "data": {
      "text/plain": [
       "0           user3\n",
       "1           user2\n",
       "2           user2\n",
       "3           user1\n",
       "4           user3\n",
       "            ...  \n",
       "49999995    user1\n",
       "49999996    user3\n",
       "49999997    user3\n",
       "49999998    user3\n",
       "49999999    user3\n",
       "Name: user, Length: 50000000, dtype: object"
      ]
     },
     "execution_count": 4,
     "metadata": {},
     "output_type": "execute_result"
    }
   ],
   "source": [
    "pd_df['user']"
   ]
  },
  {
   "cell_type": "code",
   "execution_count": 5,
   "metadata": {},
   "outputs": [
    {
     "name": "stdout",
     "output_type": "stream",
     "text": [
      "pd df memory usage 6103.5157470703125 MB\n",
      "pl df memory usage 667.572021484375 MB\n"
     ]
    }
   ],
   "source": [
    "print('pd df memory usage', pd_df.memory_usage(deep=True).sum() / (1024**2), 'MB')\n",
    "print('pl df memory usage', pl_df.estimated_size('mb'), 'MB')"
   ]
  },
  {
   "cell_type": "code",
   "execution_count": 6,
   "metadata": {},
   "outputs": [
    {
     "name": "stdout",
     "output_type": "stream",
     "text": [
      "pd filter and select time: 0.3846902847290039\n",
      "pl filter and select time: 0.0881507396697998\n",
      "pl is faster than pd by 77.08527010712064 percent\n"
     ]
    }
   ],
   "source": [
    "cats = [f'cat_1']\n",
    "t0 = time.time()\n",
    "pd_df[pd_df['num_1'] <= 10][cats].nunique()\n",
    "print('pd filter and select time:', pd_elapsed := time.time() - t0)\n",
    "\n",
    "t0 = time.time()\n",
    "pl_df.filter(pl.col(\"num_1\") <= 10).select(pl.col(cats).n_unique())\n",
    "print('pl filter and select time:', pl_elapsed := time.time() - t0)\n",
    "print(f'pl is faster than pd by {(pd_elapsed - pl_elapsed) / pd_elapsed * 100} percent')"
   ]
  },
  {
   "cell_type": "code",
   "execution_count": 7,
   "metadata": {},
   "outputs": [
    {
     "data": {
      "text/html": [
       "<div><style>\n",
       ".dataframe > thead > tr,\n",
       ".dataframe > tbody > tr {\n",
       "  text-align: right;\n",
       "  white-space: pre-wrap;\n",
       "}\n",
       "</style>\n",
       "<small>shape: (50_000_000, 3)</small><table border=\"1\" class=\"dataframe\"><thead><tr><th>user</th><th>num_1</th><th>cat_1</th></tr><tr><td>str</td><td>i64</td><td>str</td></tr></thead><tbody><tr><td>&quot;user3&quot;</td><td>37</td><td>&quot;a&quot;</td></tr><tr><td>&quot;user2&quot;</td><td>2</td><td>&quot;a&quot;</td></tr><tr><td>&quot;user2&quot;</td><td>13</td><td>&quot;a&quot;</td></tr><tr><td>&quot;user1&quot;</td><td>16</td><td>&quot;a&quot;</td></tr><tr><td>&quot;user3&quot;</td><td>39</td><td>&quot;c&quot;</td></tr><tr><td>&hellip;</td><td>&hellip;</td><td>&hellip;</td></tr><tr><td>&quot;user1&quot;</td><td>97</td><td>&quot;a&quot;</td></tr><tr><td>&quot;user3&quot;</td><td>57</td><td>&quot;a&quot;</td></tr><tr><td>&quot;user3&quot;</td><td>85</td><td>&quot;c&quot;</td></tr><tr><td>&quot;user3&quot;</td><td>6</td><td>&quot;c&quot;</td></tr><tr><td>&quot;user3&quot;</td><td>58</td><td>&quot;b&quot;</td></tr></tbody></table></div>"
      ],
      "text/plain": [
       "shape: (50_000_000, 3)\n",
       "┌───────┬───────┬───────┐\n",
       "│ user  ┆ num_1 ┆ cat_1 │\n",
       "│ ---   ┆ ---   ┆ ---   │\n",
       "│ str   ┆ i64   ┆ str   │\n",
       "╞═══════╪═══════╪═══════╡\n",
       "│ user3 ┆ 37    ┆ a     │\n",
       "│ user2 ┆ 2     ┆ a     │\n",
       "│ user2 ┆ 13    ┆ a     │\n",
       "│ user1 ┆ 16    ┆ a     │\n",
       "│ user3 ┆ 39    ┆ c     │\n",
       "│ …     ┆ …     ┆ …     │\n",
       "│ user1 ┆ 97    ┆ a     │\n",
       "│ user3 ┆ 57    ┆ a     │\n",
       "│ user3 ┆ 85    ┆ c     │\n",
       "│ user3 ┆ 6     ┆ c     │\n",
       "│ user3 ┆ 58    ┆ b     │\n",
       "└───────┴───────┴───────┘"
      ]
     },
     "execution_count": 7,
     "metadata": {},
     "output_type": "execute_result"
    }
   ],
   "source": [
    "pl_df"
   ]
  },
  {
   "cell_type": "code",
   "execution_count": 8,
   "metadata": {},
   "outputs": [
    {
     "name": "stdout",
     "output_type": "stream",
     "text": [
      "pd filter and select time: 4.763331890106201\n",
      "           num_1                             cat_1\n",
      "             sum median       mean min max nunique\n",
      "user                                              \n",
      "user1  825244928   49.0  49.494851   0  99       4\n",
      "user2  824851217   50.0  49.503939   0  99       4\n",
      "user3  824909339   49.0  49.501542   0  99       4\n",
      "pl filter and select time: 2.124401569366455\n",
      "shape: (3, 7)\n",
      "┌───────┬───────────┬──────────────┬────────────┬───────────┬───────────┬───────────────┐\n",
      "│ user  ┆ num_1_sum ┆ num_1_median ┆ num_1_mean ┆ num_1_min ┆ num_1_max ┆ cat_1_nunique │\n",
      "│ ---   ┆ ---       ┆ ---          ┆ ---        ┆ ---       ┆ ---       ┆ ---           │\n",
      "│ str   ┆ i64       ┆ f64          ┆ f64        ┆ i64       ┆ i64       ┆ u32           │\n",
      "╞═══════╪═══════════╪══════════════╪════════════╪═══════════╪═══════════╪═══════════════╡\n",
      "│ user3 ┆ 824909339 ┆ 49.0         ┆ 49.501542  ┆ 0         ┆ 99        ┆ 4             │\n",
      "│ user2 ┆ 824851217 ┆ 50.0         ┆ 49.503939  ┆ 0         ┆ 99        ┆ 4             │\n",
      "│ user1 ┆ 825244928 ┆ 49.0         ┆ 49.494851  ┆ 0         ┆ 99        ┆ 4             │\n",
      "└───────┴───────────┴──────────────┴────────────┴───────────┴───────────┴───────────────┘\n",
      "pl is faster than pd by 55.40093324634806 percent\n"
     ]
    }
   ],
   "source": [
    "t0 = time.time()\n",
    "res_df = pd_df.groupby('user').agg({'num_1': ['sum', 'median', 'mean', 'min', 'max'], 'cat_1': 'nunique'})\n",
    "print('pd filter and select time:', pd_elapsed := time.time() - t0)\n",
    "print(res_df)\n",
    "\n",
    "t0 = time.time()\n",
    "res_df = pl_df.group_by('user').agg(\n",
    "    pl.col('num_1').sum().name.suffix('_sum'),\n",
    "    pl.col('num_1').median().name.suffix('_median'),\n",
    "    pl.col('num_1').mean().name.suffix('_mean'),\n",
    "    pl.col('num_1').min().name.suffix('_min'),\n",
    "    pl.col('num_1').max().name.suffix('_max'),\n",
    "    pl.col('cat_1').n_unique().name.suffix('_nunique')\n",
    ")\n",
    "print('pl filter and select time:', pl_elapsed := time.time() - t0)\n",
    "print(res_df)\n",
    "print(f'pl is faster than pd by {(pd_elapsed - pl_elapsed) / pd_elapsed * 100} percent')"
   ]
  },
  {
   "cell_type": "code",
   "execution_count": 9,
   "metadata": {},
   "outputs": [
    {
     "name": "stdout",
     "output_type": "stream",
     "text": [
      "pd sort time: 7.549022674560547\n",
      "pl sort time: 2.3664631843566895\n",
      "pl is faster than pd by 68.6520588641039 percent\n"
     ]
    }
   ],
   "source": [
    "t0 = time.time()\n",
    "pd_df.sort_values('num_1', ascending=True)\n",
    "print('pd sort time:', pd_elapsed := time.time() - t0)\n",
    "\n",
    "t0 = time.time()\n",
    "pl_df.sort('num_1', descending=False)\n",
    "print('pl sort time:', pl_elapsed := time.time() - t0)\n",
    "print(f'pl is faster than pd by {(pd_elapsed - pl_elapsed) / pd_elapsed * 100} percent')"
   ]
  },
  {
   "cell_type": "code",
   "execution_count": null,
   "metadata": {},
   "outputs": [],
   "source": []
  }
 ],
 "metadata": {
  "kernelspec": {
   "display_name": "venv",
   "language": "python",
   "name": "python3"
  },
  "language_info": {
   "codemirror_mode": {
    "name": "ipython",
    "version": 3
   },
   "file_extension": ".py",
   "mimetype": "text/x-python",
   "name": "python",
   "nbconvert_exporter": "python",
   "pygments_lexer": "ipython3",
   "version": "3.10.12"
  }
 },
 "nbformat": 4,
 "nbformat_minor": 2
}
