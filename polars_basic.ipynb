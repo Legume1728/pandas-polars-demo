{
 "cells": [
  {
   "cell_type": "code",
   "execution_count": 12,
   "metadata": {},
   "outputs": [],
   "source": [
    "import polars as pl\n",
    "import pandas as pd"
   ]
  },
  {
   "cell_type": "code",
   "execution_count": 19,
   "metadata": {},
   "outputs": [
    {
     "data": {
      "text/html": [
       "<div><style>\n",
       ".dataframe > thead > tr,\n",
       ".dataframe > tbody > tr {\n",
       "  text-align: right;\n",
       "  white-space: pre-wrap;\n",
       "}\n",
       "</style>\n",
       "<small>shape: (6, 2)</small><table border=\"1\" class=\"dataframe\"><thead><tr><th>a</th><th>b</th></tr><tr><td>i64</td><td>str</td></tr></thead><tbody><tr><td>1</td><td>&quot;foo&quot;</td></tr><tr><td>2</td><td>&quot;foo&quot;</td></tr><tr><td>3</td><td>&quot;foo&quot;</td></tr><tr><td>4</td><td>&quot;bar&quot;</td></tr><tr><td>5</td><td>&quot;bar&quot;</td></tr><tr><td>6</td><td>&quot;bar&quot;</td></tr></tbody></table></div>"
      ],
      "text/plain": [
       "shape: (6, 2)\n",
       "┌─────┬─────┐\n",
       "│ a   ┆ b   │\n",
       "│ --- ┆ --- │\n",
       "│ i64 ┆ str │\n",
       "╞═════╪═════╡\n",
       "│ 1   ┆ foo │\n",
       "│ 2   ┆ foo │\n",
       "│ 3   ┆ foo │\n",
       "│ 4   ┆ bar │\n",
       "│ 5   ┆ bar │\n",
       "│ 6   ┆ bar │\n",
       "└─────┴─────┘"
      ]
     },
     "execution_count": 19,
     "metadata": {},
     "output_type": "execute_result"
    }
   ],
   "source": [
    "df = pl.DataFrame({\n",
    "    \"a\": [[1, 2, 3], [4, 5, 6]], \n",
    "    \"b\": [\"foo\", \"bar\"]\n",
    "})\n",
    "df2 = df.explode('a')\n",
    "df2"
   ]
  },
  {
   "cell_type": "code",
   "execution_count": 20,
   "metadata": {},
   "outputs": [
    {
     "data": {
      "text/html": [
       "<div><style>\n",
       ".dataframe > thead > tr,\n",
       ".dataframe > tbody > tr {\n",
       "  text-align: right;\n",
       "  white-space: pre-wrap;\n",
       "}\n",
       "</style>\n",
       "<small>shape: (1, 2)</small><table border=\"1\" class=\"dataframe\"><thead><tr><th>a</th><th>b</th></tr><tr><td>list[i64]</td><td>str</td></tr></thead><tbody><tr><td>[1, 2, 3]</td><td>&quot;foo&quot;</td></tr></tbody></table></div>"
      ],
      "text/plain": [
       "shape: (1, 2)\n",
       "┌───────────┬─────┐\n",
       "│ a         ┆ b   │\n",
       "│ ---       ┆ --- │\n",
       "│ list[i64] ┆ str │\n",
       "╞═══════════╪═════╡\n",
       "│ [1, 2, 3] ┆ foo │\n",
       "└───────────┴─────┘"
      ]
     },
     "execution_count": 20,
     "metadata": {},
     "output_type": "execute_result"
    }
   ],
   "source": [
    "df.filter(pl.col('a').list.contains(1))"
   ]
  },
  {
   "cell_type": "code",
   "execution_count": 9,
   "metadata": {},
   "outputs": [
    {
     "name": "stdout",
     "output_type": "stream",
     "text": [
      "shape: (5, 3)\n",
      "┌───────┬────────┬────────┐\n",
      "│ group ┆ value1 ┆ value2 │\n",
      "│ ---   ┆ ---    ┆ ---    │\n",
      "│ str   ┆ i64    ┆ i64    │\n",
      "╞═══════╪════════╪════════╡\n",
      "│ A     ┆ 10     ┆ 100    │\n",
      "│ A     ┆ 20     ┆ 200    │\n",
      "│ B     ┆ 30     ┆ 300    │\n",
      "│ B     ┆ 40     ┆ 400    │\n",
      "│ C     ┆ 50     ┆ 500    │\n",
      "└───────┴────────┴────────┘\n"
     ]
    }
   ],
   "source": [
    "# Create a DataFrame\n",
    "df = pl.DataFrame({\n",
    "    \"group\": [\"A\", \"A\", \"B\", \"B\", \"C\"],\n",
    "    \"value1\": [10, 20, 30, 40, 50],\n",
    "    \"value2\": [100, 200, 300, 400, 500]\n",
    "})\n",
    "\n",
    "print(df)"
   ]
  },
  {
   "cell_type": "code",
   "execution_count": 11,
   "metadata": {},
   "outputs": [
    {
     "name": "stdout",
     "output_type": "stream",
     "text": [
      "shape: (3, 3)\n",
      "┌───────┬────────┬────────┐\n",
      "│ group ┆ value1 ┆ value2 │\n",
      "│ ---   ┆ ---    ┆ ---    │\n",
      "│ str   ┆ i64    ┆ i64    │\n",
      "╞═══════╪════════╪════════╡\n",
      "│ B     ┆ 30     ┆ 300    │\n",
      "│ A     ┆ 10     ┆ 100    │\n",
      "│ C     ┆ 50     ┆ 500    │\n",
      "└───────┴────────┴────────┘\n"
     ]
    }
   ],
   "source": [
    "# Group by 'group' and aggregate with the first value\n",
    "result = df.group_by(\"group\").agg([\n",
    "    pl.col(\"value1\").first(),\n",
    "    pl.col(\"value2\").first()\n",
    "])\n",
    "\n",
    "print(result)"
   ]
  },
  {
   "cell_type": "code",
   "execution_count": 13,
   "metadata": {},
   "outputs": [
    {
     "name": "stdout",
     "output_type": "stream",
     "text": [
      "  group  value1  value2\n",
      "0     A      10     100\n",
      "1     A      20     200\n",
      "2     B      30     300\n",
      "3     B      40     400\n",
      "4     C      50     500\n"
     ]
    }
   ],
   "source": [
    "# Create a DataFrame\n",
    "df = pd.DataFrame({\n",
    "    \"group\": [\"A\", \"A\", \"B\", \"B\", \"C\"],\n",
    "    \"value1\": [10, 20, 30, 40, 50],\n",
    "    \"value2\": [100, 200, 300, 400, 500]\n",
    "})\n",
    "\n",
    "print(df)"
   ]
  },
  {
   "cell_type": "code",
   "execution_count": 16,
   "metadata": {},
   "outputs": [],
   "source": [
    "df2 = df.groupby(\"group\").agg({\n",
    "    \"value1\": \"first\",\n",
    "    \"value2\": \"first\"\n",
    "}).reset_index() # need to reset index so that the group column is not the index"
   ]
  },
  {
   "cell_type": "code",
   "execution_count": 17,
   "metadata": {},
   "outputs": [
    {
     "data": {
      "text/html": [
       "<div>\n",
       "<style scoped>\n",
       "    .dataframe tbody tr th:only-of-type {\n",
       "        vertical-align: middle;\n",
       "    }\n",
       "\n",
       "    .dataframe tbody tr th {\n",
       "        vertical-align: top;\n",
       "    }\n",
       "\n",
       "    .dataframe thead th {\n",
       "        text-align: right;\n",
       "    }\n",
       "</style>\n",
       "<table border=\"1\" class=\"dataframe\">\n",
       "  <thead>\n",
       "    <tr style=\"text-align: right;\">\n",
       "      <th></th>\n",
       "      <th>group</th>\n",
       "      <th>value1</th>\n",
       "      <th>value2</th>\n",
       "    </tr>\n",
       "  </thead>\n",
       "  <tbody>\n",
       "    <tr>\n",
       "      <th>0</th>\n",
       "      <td>A</td>\n",
       "      <td>10</td>\n",
       "      <td>100</td>\n",
       "    </tr>\n",
       "    <tr>\n",
       "      <th>1</th>\n",
       "      <td>B</td>\n",
       "      <td>30</td>\n",
       "      <td>300</td>\n",
       "    </tr>\n",
       "    <tr>\n",
       "      <th>2</th>\n",
       "      <td>C</td>\n",
       "      <td>50</td>\n",
       "      <td>500</td>\n",
       "    </tr>\n",
       "  </tbody>\n",
       "</table>\n",
       "</div>"
      ],
      "text/plain": [
       "  group  value1  value2\n",
       "0     A      10     100\n",
       "1     B      30     300\n",
       "2     C      50     500"
      ]
     },
     "execution_count": 17,
     "metadata": {},
     "output_type": "execute_result"
    }
   ],
   "source": [
    "df2"
   ]
  },
  {
   "cell_type": "code",
   "execution_count": null,
   "metadata": {},
   "outputs": [],
   "source": []
  }
 ],
 "metadata": {
  "kernelspec": {
   "display_name": "venv",
   "language": "python",
   "name": "python3"
  },
  "language_info": {
   "codemirror_mode": {
    "name": "ipython",
    "version": 3
   },
   "file_extension": ".py",
   "mimetype": "text/x-python",
   "name": "python",
   "nbconvert_exporter": "python",
   "pygments_lexer": "ipython3",
   "version": "3.10.12"
  }
 },
 "nbformat": 4,
 "nbformat_minor": 2
}
